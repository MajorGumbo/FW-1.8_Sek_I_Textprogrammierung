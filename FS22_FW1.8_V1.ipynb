{
 "cells": [
  {
   "cell_type": "markdown",
   "id": "38103fb1",
   "metadata": {},
   "source": [
    "<h1 style= \"background-color:gold; height:60px;line-height: 2.5; text-align: center; letter-spacing: 5px;\">Vertiefungsübungen V1  </h1>"
   ]
  },
  {
   "cell_type": "markdown",
   "id": "150cb1a9",
   "metadata": {},
   "source": [
    "# Erste Schritte mit Python"
   ]
  },
  {
   "cell_type": "markdown",
   "id": "74535ca0",
   "metadata": {},
   "source": [
    "<img src=\"img_1.png\">\n",
    "<center><em>Professur der Didaktik für Informatik und Medienbildung<br><center><em>Fachwissenschaft Medien und Informatik 1.8<br></em>"
   ]
  },
  {
   "cell_type": "markdown",
   "id": "462d40ac",
   "metadata": {},
   "source": [
    "## Schreiben Sie Ihr erstes Python Programm!\n",
    "\n",
    "1. Erstelle Sie eine einfache Ausgabe \"Hallo Welt\" mit der Print-Funktion.\n",
    "Zur Erinnerung: Die Printfunktion (Ausgabe des Codes in einer Zeile) kann durch shift + Enter ausgelöst werden."
   ]
  },
  {
   "cell_type": "code",
   "execution_count": 2,
   "id": "b57dfa64",
   "metadata": {},
   "outputs": [
    {
     "name": "stdout",
     "output_type": "stream",
     "text": [
      "lsfdjsldkfj\n"
     ]
    }
   ],
   "source": [
    "# Hallo Welt Programm\n",
    "print(\"lsfdjsldkfj\")\n"
   ]
  },
  {
   "cell_type": "markdown",
   "id": "2c0f28be",
   "metadata": {},
   "source": [
    "\n",
    "2. Als nächstes ersetzen Sie das Wort \"Welt\" durch die einen Wert, welcher durch die Input-Funktion dem Programm übergeben wird.\n"
   ]
  },
  {
   "cell_type": "code",
   "execution_count": null,
   "id": "133787a8",
   "metadata": {},
   "outputs": [],
   "source": [
    "# Hallo + Name Programm\n",
    "\n"
   ]
  },
  {
   "cell_type": "markdown",
   "id": "a2e92d6f",
   "metadata": {},
   "source": [
    "### 2. Erste Übungen\n",
    "\n",
    "1. Personendaten<br>\n",
    "Schreiben Sie ein Programm Personendaten, das Name, Alter und Gehalt des Anwenders abfragt und anschließend ausgibt."
   ]
  },
  {
   "cell_type": "code",
   "execution_count": null,
   "id": "258f2843",
   "metadata": {},
   "outputs": [],
   "source": [
    "# Personendaten Programm\n",
    "\n"
   ]
  },
  {
   "cell_type": "markdown",
   "id": "20a0659a",
   "metadata": {},
   "source": [
    "2. Taschenrechner<br>Erstellen Sie mit der Input-Funktion ein Programm, welches einfache Rechnungen der Grundoperationen durchführt.\n"
   ]
  },
  {
   "cell_type": "code",
   "execution_count": null,
   "id": "88553ab5",
   "metadata": {},
   "outputs": [],
   "source": [
    "#Taschenrechner\n",
    "\n"
   ]
  }
 ],
 "metadata": {
  "kernelspec": {
   "display_name": "Python 3 (ipykernel)",
   "language": "python",
   "name": "python3"
  },
  "language_info": {
   "codemirror_mode": {
    "name": "ipython",
    "version": 3
   },
   "file_extension": ".py",
   "mimetype": "text/x-python",
   "name": "python",
   "nbconvert_exporter": "python",
   "pygments_lexer": "ipython3",
   "version": "3.9.13"
  }
 },
 "nbformat": 4,
 "nbformat_minor": 5
}
