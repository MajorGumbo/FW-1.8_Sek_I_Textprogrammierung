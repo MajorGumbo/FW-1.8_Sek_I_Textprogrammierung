{
 "cells": [
  {
   "cell_type": "markdown",
   "id": "fe3838f1",
   "metadata": {},
   "source": [
    "<h1 style= \"background-color:gold; height:60px;line-height: 2.5; text-align: center; letter-spacing: 5px;\">Vertiefungsübungen V6</h1>"
   ]
  },
  {
   "cell_type": "markdown",
   "id": "bde4c22d",
   "metadata": {},
   "source": [
    "# Schleifen"
   ]
  },
  {
   "cell_type": "markdown",
   "id": "c459d77e",
   "metadata": {},
   "source": [
    "<img src=\"img_6.jpg\">\n",
    "<center><em>Professur der Didaktik für Informatik und Medienbildung<br><center><em>Fachwissenschaft Medien und Informatik 1.8<br></em>"
   ]
  },
  {
   "cell_type": "markdown",
   "id": "84b2469e",
   "metadata": {},
   "source": [
    "### 1. for-Schleife\n",
    "Eine For-Schleife wird verwendet, um eine bestimmte Anzahl von Malen eine Anweisung auszuführen. Die Syntax der For-Schleife sieht wie folgt aus:"
   ]
  },
  {
   "cell_type": "markdown",
   "id": "366741db",
   "metadata": {},
   "source": [
    "<code>for variable in range(start, stop, step):</code><br>\n",
    "    "
   ]
  },
  {
   "cell_type": "markdown",
   "id": "9ac4ee3a",
   "metadata": {},
   "source": [
    "Die Variable ist eine beliebige Variable, die verwendet wird, um durch die Schleife zu gehen.<br>\n",
    "Der Startwert ist der Startwert des Bereichs, durch den die Schleife gehen soll.<br>\n",
    "Der Stopwert ist der Endwert des Bereichs, durch den die Schleife gehen soll.<br>\n",
    "Der Schrittwert ist der Wert, um den die Variable bei jedem Durchlauf der Schleife erhöht oder verringert wird.<br><br>\n",
    "Beispiel:"
   ]
  },
  {
   "cell_type": "code",
   "execution_count": null,
   "id": "b3abe625",
   "metadata": {
    "scrolled": true
   },
   "outputs": [],
   "source": [
    "for i in range(0, 5):\n",
    "    print(i)\n"
   ]
  },
  {
   "cell_type": "markdown",
   "id": "4d86869a",
   "metadata": {},
   "source": [
    "Dieser Code wird die Zahl von 0 bis 4 ausgeben, weil die Schleife 5 mal ausgeführt wird (0, 1, 2, 3, 4)."
   ]
  },
  {
   "cell_type": "markdown",
   "id": "5c5a9889",
   "metadata": {},
   "source": [
    "### 2. while-Schleife\n",
    "Eine while-Schleife wird verwendet, um eine Anweisung solange auszuführen, wie eine bestimmte Bedingung erfüllt ist. Die Syntax der While-Schleife sieht wie folgt aus:"
   ]
  },
  {
   "cell_type": "markdown",
   "id": "3b219cdb",
   "metadata": {},
   "source": [
    "while Bedingung:<br><br>\n",
    "Beispiel:\n"
   ]
  },
  {
   "cell_type": "code",
   "execution_count": null,
   "id": "3a4f0e76",
   "metadata": {
    "scrolled": false
   },
   "outputs": [],
   "source": [
    "x = 0\n",
    "\n",
    "while x < 5:\n",
    "    print(x)\n",
    "    x += 1\n"
   ]
  },
  {
   "cell_type": "markdown",
   "id": "785f9046",
   "metadata": {},
   "source": [
    "Dieser Code wird die Zahl von 0 bis 4 ausgeben, weil die Schleife solange ausgeführt wird, bis die Variable x den Wert 5 hat."
   ]
  },
  {
   "cell_type": "markdown",
   "id": "a1acbfb8",
   "metadata": {},
   "source": [
    "### 3. break und continue\n",
    "Für die Schleifen existieren zwei wichtige Anweisungen: „break” zum vorzeitigen Abbruch\n",
    "der Schleife und „continue”, um einen Durchlauf zu beenden und mit dem nächsten\n",
    "Durchlauf bzw. der Überprüfung der Abbruchbedingung weiterzumachen."
   ]
  },
  {
   "cell_type": "markdown",
   "id": "53e3989d",
   "metadata": {},
   "source": [
    "Das Schlüsselwort break beendet die Ausführung der aktuellen Schleife und springt zur nächsten Anweisung außerhalb der Schleife.\n",
    "<br><br>\n",
    "Beispiel:"
   ]
  },
  {
   "cell_type": "code",
   "execution_count": null,
   "id": "27949bd6",
   "metadata": {
    "scrolled": false
   },
   "outputs": [],
   "source": [
    "for i in range(10):\n",
    "    if i == 5:\n",
    "        break\n",
    "    print(i)\n"
   ]
  },
  {
   "cell_type": "markdown",
   "id": "40754c7d",
   "metadata": {},
   "source": [
    "Dieser Code wird die Zahlen von 0 bis 4 ausgeben, weil die Schleife beim Wert 5 abbricht und die Ausgabe der Zahl 5 und jeder Zahl danach verhindert."
   ]
  },
  {
   "cell_type": "markdown",
   "id": "2412128d",
   "metadata": {},
   "source": [
    "Das Schlüsselwort continue beendet die Ausführung der aktuellen Iteration der Schleife und springt zur nächsten Iteration.<br><br>\n",
    "Beispiel:"
   ]
  },
  {
   "cell_type": "code",
   "execution_count": null,
   "id": "a61b30d3",
   "metadata": {
    "scrolled": true
   },
   "outputs": [],
   "source": [
    "for i in range(20):\n",
    "    if i % 2 == 0:\n",
    "        continue\n",
    "    print(i)\n"
   ]
  },
  {
   "cell_type": "markdown",
   "id": "f4fd867d",
   "metadata": {},
   "source": [
    "Dieser Code wird die ungeraden Zahlen von 1 bis 9 ausgeben, weil die Schleife bei jeder geraden Zahl mit continue übersprungen wird und die Ausgabe dieser Zahlen verhindert."
   ]
  },
  {
   "cell_type": "markdown",
   "id": "573402a2",
   "metadata": {},
   "source": [
    "### 4. else in Schleifen\n",
    "Bei Schleifen kann ein else-Teil folgen. Die Anweisungen im else-Teil werden ausgeführt, sobald die Bedingung nicht mehr erfüllt ist. Der else-Teil einer Schleife wird erst zusammen mit dem break-Kommando sinnvoll."
   ]
  },
  {
   "cell_type": "markdown",
   "id": "2a2f249d",
   "metadata": {},
   "source": [
    "Hier wird eine for-Schleife mit else verwendet, um zu überprüfen, ob eine bestimmte Zahl eine Primzahl ist."
   ]
  },
  {
   "cell_type": "code",
   "execution_count": null,
   "id": "4d6be6d4",
   "metadata": {},
   "outputs": [],
   "source": [
    "number = 234242\n",
    "\n",
    "for i in range(2, number):\n",
    "    if number % i == 0:\n",
    "        print(number, \"ist keine Primzahl\")\n",
    "        break\n",
    "else:\n",
    "    print(number, \"ist eine Primzahl\")\n"
   ]
  },
  {
   "cell_type": "markdown",
   "id": "4076e05e",
   "metadata": {},
   "source": [
    "Im folgenden Beispiel, einem einfachen Zahlenratespiel, kann man erkennen, dass in Kombination mit einem break der else-Zweig durchaus sinnvoll sein kann. Nur wenn die\n",
    "while-Schleife regulär beendet wird, d.h. der Spieler die Zahl erraten hat, gibt es einen\n",
    "Glückwunsch. Gibt der Spieler auf, d.h. break, dann wird der else-Zweig der while-Schleife\n",
    "nicht ausgeführt."
   ]
  },
  {
   "cell_type": "code",
   "execution_count": null,
   "id": "22aacd0b",
   "metadata": {
    "scrolled": true
   },
   "outputs": [],
   "source": [
    "import random\n",
    "n = 20\n",
    "to_be_guessed = random.randint(1, n)\n",
    "guess = 0\n",
    "\n",
    "while guess != to_be_guessed:\n",
    "    guess = input(\"Dein Versuch: \")\n",
    "    if guess.isdecimal():\n",
    "        guess = int(guess)\n",
    "        if guess > to_be_guessed:\n",
    "            print(\"Zu gross\")\n",
    "        elif guess < to_be_guessed:\n",
    "            print(\"Zu klein\")\n",
    "    else:\n",
    "        print(\"Schade, dass du aufgibst!\")\n",
    "        break\n",
    "else:\n",
    "    print(\"Gratuliere, das war's\")"
   ]
  },
  {
   "cell_type": "markdown",
   "id": "db679af4",
   "metadata": {},
   "source": [
    "### 5. Verschachtelte Schleifen (nested loops)\n"
   ]
  },
  {
   "cell_type": "code",
   "execution_count": null,
   "id": "ddd2e254",
   "metadata": {},
   "outputs": [],
   "source": [
    "# Verschachtelte Schleifen mit for\n",
    "\n",
    "# Äussere Schleife\n",
    "for i in range(3):\n",
    "    # Innere Schleife\n",
    "    for j in range(2):\n",
    "        print(\"i =\", i, \"j =\", j)    "
   ]
  },
  {
   "cell_type": "code",
   "execution_count": null,
   "id": "41306eee",
   "metadata": {},
   "outputs": [],
   "source": [
    "# Beispiel für eine verschachtelte Schleife mit while zur Erstellung einer Multiplikationstabelle\n",
    "\n",
    "i = 1\n",
    "while i <= 10:\n",
    "    j = 1\n",
    "    while j <= 10:\n",
    "        print(i*j, end=\"\\t\") # end=\"\\t\" sorgt dafür, dass die Ergebnisse in Spalten angezeigt werden\n",
    "        j += 1\n",
    "    print() # Leerzeile nach jeder Reihe\n",
    "    i += 1\n"
   ]
  },
  {
   "cell_type": "code",
   "execution_count": null,
   "id": "33f49d1d",
   "metadata": {},
   "outputs": [],
   "source": [
    "# Beispiel für das Erstellen eines Zufallsgenerators für Passwörter mit verschachtelten Schleifen\n",
    "\n",
    "import random\n",
    "\n",
    "# Länge des Passworts\n",
    "password_length = 8\n",
    "\n",
    "\n",
    "# Liste der möglichen Zeichen für das Passwort\n",
    "characters = \"abcdefghijklmnopqrstuvwxyzABCDEFGHIJKLMNOPQRSTUVWXYZ0123456789!@#$%^&*()\"\n",
    "password =\"\"\n",
    "\n",
    "\n",
    "# Äußere Schleife für die Länge des Passworts\n",
    "for i in range(password_length):\n",
    "    # Innere Schleife für die Auswahl eines zufälligen Zeichens\n",
    "    for j in range(1):\n",
    "        # Fügt das zufällige Zeichen dem Passwort hinzu\n",
    "        password += random.choice(characters)\n",
    "\n",
    "print(password)"
   ]
  },
  {
   "cell_type": "markdown",
   "id": "7a51fca4",
   "metadata": {},
   "source": [
    "## Übungen"
   ]
  },
  {
   "cell_type": "markdown",
   "id": "027d1b76",
   "metadata": {},
   "source": [
    "1. Geben Sie die Zahlen von 1 bis 20, gefolgt von ihrem Quadrat, unter Benutzung einer while-Schleife aus:"
   ]
  },
  {
   "cell_type": "code",
   "execution_count": null,
   "id": "430e571b",
   "metadata": {},
   "outputs": [],
   "source": [
    "# Quadratzahlen\n"
   ]
  },
  {
   "cell_type": "markdown",
   "id": "5a632ccc",
   "metadata": {},
   "source": [
    "2. Berechnen Sie die Summe aller natürlichen Zahlen von 1 bis 100 mit einer for-Schleife\n"
   ]
  },
  {
   "cell_type": "code",
   "execution_count": null,
   "id": "58a3fb63",
   "metadata": {},
   "outputs": [],
   "source": [
    "# Summe natürlicher Zahlen\n"
   ]
  },
  {
   "cell_type": "markdown",
   "id": "48967445",
   "metadata": {},
   "source": [
    "3. Geben Sie die Teiler einer eingegeben Zahl aus.<br>\n",
    "Mit dem Modulo-Operator % können Sie testen, ob der Teilerrest Null ist.<br>\n",
    "<code>rest = zahl%divisor\n",
    " if rest == 0:</code>"
   ]
  },
  {
   "cell_type": "code",
   "execution_count": null,
   "id": "6e02a643",
   "metadata": {},
   "outputs": [],
   "source": [
    "# Teilermenge\n",
    "\n",
    "zahl=int(input(\"Von welcher Zahl möchtest du die Teiler wissen? \"))\n"
   ]
  },
  {
   "cell_type": "markdown",
   "id": "9094b7db",
   "metadata": {},
   "source": [
    "4. Schreiben Sie ein Programm, das einen Tannenbaum zeichnet.<br>\n",
    "         "
   ]
  },
  {
   "cell_type": "code",
   "execution_count": null,
   "id": "0aa682a2",
   "metadata": {},
   "outputs": [],
   "source": [
    "print(\"     *\")\n",
    "print(\"    ***\")\n",
    "print(\"   *****\")\n",
    "print(\"  *******\")\n",
    "print(\" *********\")\n",
    "print(\"************\")"
   ]
  },
  {
   "cell_type": "markdown",
   "id": "10b6b1b5",
   "metadata": {},
   "source": [
    "Der Tannenbaum sollte nun mit Schleifen gezeichnet werden."
   ]
  },
  {
   "cell_type": "code",
   "execution_count": null,
   "id": "368223b2",
   "metadata": {
    "scrolled": false
   },
   "outputs": [],
   "source": [
    "# Beispiel für das Zeichnen eines Weihnachtsbaumes mit *\n",
    "\n",
    "# Anzahl der Zeilen soll eingegeben werden\n",
    "rows = int(input(\"Anzahl Zeilen? \"))\n",
    "\n",
    "# Man kann dem Schlüsselwortparameter \"end\" einen beliebigen String zuweisen,\n",
    "# der dann statt dem Default-Wert \"\\n\" verwendet wird. Das erlaubt z.B. mehrere Werte in einer Zeile auszugeben\n",
    "\n",
    "# Normalerweise schliesst jeder Aufruf von print eine Zeile der Ausgabe ab.\n",
    "print(2)\n",
    "print(3)\n",
    "\n",
    "# Durch ein mit »end=« gekennzeichnetes Argument kann dies verhindert werden.\n",
    "print(2, end=\"\")\n",
    "print(3)\n",
    "\n",
    "# Zeichen können auch folgendermassen wiederholt werden:\n",
    "print(5 * \" \" + 4 * \"*\")"
   ]
  },
  {
   "cell_type": "code",
   "execution_count": null,
   "id": "1200dfb2",
   "metadata": {},
   "outputs": [],
   "source": []
  },
  {
   "cell_type": "markdown",
   "id": "adb064c5",
   "metadata": {},
   "source": [
    "5. Schreiben Sie ein Programm, das von -20 bis 100 Grad Celsius in 5-er Schritten diese Werte in Fahrenheit umrechnet.<br>\n",
    "F = 9.0/5  * C + 32<br>\n",
    "Schreiben Sie auch die Umkehrung"
   ]
  },
  {
   "cell_type": "code",
   "execution_count": null,
   "id": "effc95c8",
   "metadata": {
    "scrolled": true
   },
   "outputs": [],
   "source": [
    "# Celsius in Fahrenheit\n"
   ]
  },
  {
   "cell_type": "markdown",
   "id": "38bcd105",
   "metadata": {},
   "source": [
    "6. Schreibe ein Programm, welches nach Eingabe des Kapitals, des Zinsfusses und der Laufzeit die jährliche Kapitalentwicklung ausgibt."
   ]
  },
  {
   "cell_type": "code",
   "execution_count": null,
   "id": "33e72618",
   "metadata": {},
   "outputs": [],
   "source": [
    "# Zinseszins\n"
   ]
  },
  {
   "cell_type": "markdown",
   "id": "6fbdd03a",
   "metadata": {},
   "source": [
    "7. Programmieren Sie die Fakultät mittels ein Schleife"
   ]
  },
  {
   "cell_type": "code",
   "execution_count": null,
   "id": "b838f89c",
   "metadata": {},
   "outputs": [],
   "source": [
    "# Fakultät\n"
   ]
  },
  {
   "cell_type": "markdown",
   "id": "20d3b6ed",
   "metadata": {},
   "source": [
    "8. Die chinesische Weissagung I-Gingbedient sich zweier Muster<br>\n",
    "00__00 = Yin<br>\n",
    "000000 = Yang<br>\n",
    "die an 6 Plätzen auftreten können. Daraus ergeben sich 64 Hexagramme, von denen jedem eine bestimmte Bedeutung zukommt. Das folgende Symbol beduetet \"Die Sammlung\".<br><br>\n",
    "00__00<br>\n",
    "000000<br>\n",
    "000000<br>\n",
    "00__00<br>\n",
    "00__00<br>\n",
    "00__00<br>\n",
    "\n",
    "\n",
    "<img src=\"https://upload.wikimedia.org/wikipedia/commons/thumb/b/bb/UCB_Yijing_Hexagram_Symbols.png/1280px-UCB_Yijing_Hexagram_Symbols.png\" alt=\"I-Ging\"/>\n",
    "\n",
    "Das folgende Programm gibt alle möglichen I-Ging Hexagramme aus."
   ]
  },
  {
   "cell_type": "code",
   "execution_count": null,
   "id": "b9365001",
   "metadata": {},
   "outputs": [],
   "source": [
    "# Hexagramm Generator\n",
    "\n",
    "hexagram_a = \"XXXXXX\"\n",
    "hexagram_b = \"XX__XX\"\n",
    "i = 1\n",
    "\n",
    "for a in [hexagram_a, hexagram_b]:\n",
    "    for b in [hexagram_a, hexagram_b]:\n",
    "        for c in [hexagram_a, hexagram_b]:\n",
    "            for d in [hexagram_a, hexagram_b]:\n",
    "                for e in [hexagram_a, hexagram_b]:\n",
    "                    for f in [hexagram_a, hexagram_b]:\n",
    "                        print (i)\n",
    "                        print (a + \"\\n\" + b + \"\\n\" + c + \"\\n\" + d + \"\\n\" + e + \"\\n\" + f+ \"\\n\")\n",
    "                        i += 1\n",
    "                       "
   ]
  },
  {
   "cell_type": "markdown",
   "id": "362ab87d",
   "metadata": {},
   "source": [
    "Schreiben Sie mit derselben Idee ein Programm, das alle 6-stelligen Zahlen ausgibt, welche nur aus den Ziffern 1 und 2 bestehen.<br>\n",
    "111111<br>\n",
    "111112<br>\n",
    "111121<br>\n",
    "111122<br>\n",
    "etc."
   ]
  },
  {
   "cell_type": "code",
   "execution_count": null,
   "id": "c724decf",
   "metadata": {
    "scrolled": true
   },
   "outputs": [],
   "source": [
    "# Variationen mit Wiederholung\n"
   ]
  },
  {
   "cell_type": "markdown",
   "id": "f45b623e",
   "metadata": {},
   "source": [
    "9. Die Collatz-Vermutung besagt, dass für jede positive ganze Zahl n, wenn man das Verfahren der folgenden Regeln anwendet, die Verarbeitung immer zu 1 führen wird, unabhängig von der ursprünglich gewählten Zahl.<br>\n",
    "Wenn n gerade ist, teilen Sie n durch 2.\n",
    "Wenn n ungerade ist, multiplizieren Sie n mit 3 und addieren Sie 1.<br>\n",
    "Schreiben Sie ein Python-Programm, das die Collatz-Vermutung implementiert."
   ]
  },
  {
   "cell_type": "code",
   "execution_count": null,
   "id": "e7b2bf45",
   "metadata": {},
   "outputs": [],
   "source": []
  },
  {
   "cell_type": "markdown",
   "id": "f5788352",
   "metadata": {},
   "source": [
    "## Musterlösungen"
   ]
  },
  {
   "cell_type": "code",
   "execution_count": null,
   "id": "f5b78ae7",
   "metadata": {},
   "outputs": [],
   "source": [
    "# Übung 1\n",
    "\n",
    "x = 1\n",
    "\n",
    "while x <= 20:\n",
    "    print(x, x*x)\n",
    "    x += 1\n"
   ]
  },
  {
   "cell_type": "code",
   "execution_count": null,
   "id": "39329859",
   "metadata": {},
   "outputs": [],
   "source": [
    "# Übung 2\n",
    "\n",
    "sum = 0\n",
    "\n",
    "for i in range(1, 101):\n",
    "    sum += i\n",
    "   \n",
    "print(\"Summe der ersten 100 Zahlen:\", sum)"
   ]
  },
  {
   "cell_type": "code",
   "execution_count": null,
   "id": "5fcdb63b",
   "metadata": {},
   "outputs": [],
   "source": [
    "#Übung 3 mit for\n",
    "\n",
    "number = int(input(\"Bitte geben Sie eine Zahl ein: \"))\n",
    "\n",
    "print(\"Teiler von\", number, \"sind:\")\n",
    "for i in range(1, number + 1):\n",
    "    if number % i == 0:\n",
    "        print(i)\n"
   ]
  },
  {
   "cell_type": "code",
   "execution_count": null,
   "id": "698b8b46",
   "metadata": {},
   "outputs": [],
   "source": [
    "#Übung 3 mit while\n",
    "\n",
    "number = int(input(\"Bitte geben Sie eine Zahl ein: \"))\n",
    "\n",
    "print(\"Teiler von\", number, \"sind:\")\n",
    "i = 1\n",
    "while i <= number:\n",
    "    if number % i == 0:\n",
    "        print(i)\n",
    "    i += 1\n"
   ]
  },
  {
   "cell_type": "code",
   "execution_count": null,
   "id": "0510a130",
   "metadata": {},
   "outputs": [],
   "source": [
    "#Übung 4\n",
    "\n",
    "height = int(input(\"Bitte geben Sie die Höhe des Tannenbaums ein: \"))\n",
    "\n",
    "for i in range(1, height + 1):\n",
    "    spaces = height - i\n",
    "    stars = 2 * i - 1\n",
    "    print(\" \" * spaces + \"*\" * stars)"
   ]
  },
  {
   "cell_type": "code",
   "execution_count": null,
   "id": "9e20ace7",
   "metadata": {},
   "outputs": [],
   "source": [
    "#Übung 5\n",
    "\n",
    "start = -20\n",
    "stop = 100\n",
    "step = 5\n",
    "\n",
    "print(\"Celsius\\tFahrenheit\")\n",
    "for celsius in range(start, stop + step, step):\n",
    "    fahrenheit = int(9.0 / 5 * celsius + 32)\n",
    "    print(celsius, \"\\t\", fahrenheit)\n",
    "\n",
    "print()\n",
    "    \n",
    "print(\"Fahrenheit\\tCelsius\")\n",
    "for fahrenheit in range(-4, 220, step):\n",
    "    celsius = int((fahrenheit - 32) * 5/9)\n",
    "    print(fahrenheit, \"\\t\", \"\\t\", celsius)\n"
   ]
  },
  {
   "cell_type": "code",
   "execution_count": null,
   "id": "fc062e39",
   "metadata": {},
   "outputs": [],
   "source": [
    "#Übung 6\n",
    "\n",
    "capital = float(input(\"Bitte geben Sie das Kapital ein: \"))\n",
    "zinsfuss = float(input(\"Bitte geben Sie den Zinsfuss in Prozent ein: \"))\n",
    "duration = int(input(\"Bitte geben Sie die Laufzeit in Jahren ein: \"))\n",
    "\n",
    "print(\"Jahr\\tKapital\")\n",
    "for year in range(1, duration + 1):\n",
    "    capital = capital * (1 + zinsfuss/100)\n",
    "    print(year, \"\\t\", int(capital))\n"
   ]
  },
  {
   "cell_type": "code",
   "execution_count": null,
   "id": "5b0e090b",
   "metadata": {},
   "outputs": [],
   "source": [
    "#Übung 7\n",
    "\n",
    "n = int(input(\"Bitte geben Sie eine natürliche Zahl ein: \"))\n",
    "factorial = 1\n",
    "for i in range(1, n + 1):\n",
    "    factorial *= i\n",
    "\n",
    "print(\"Die Fakultät von\", n, \"ist\", factorial)\n"
   ]
  },
  {
   "cell_type": "code",
   "execution_count": null,
   "id": "433c9f30",
   "metadata": {},
   "outputs": [],
   "source": [
    "# Übung 8\n",
    "\n",
    "i= 0\n",
    "\n",
    "for a in [\"1\", \"2\"]:\n",
    "    for b in [\"1\", \"2\"]:\n",
    "        for c in [\"1\", \"2\"]:\n",
    "            for d in [\"1\", \"2\"]:\n",
    "                for e in [\"1\", \"2\"]:\n",
    "                    for f in [\"1\", \"2\"]:\n",
    "                        print (a, b, c, d, e, f)\n",
    "                        i += 1\n",
    "                        \n",
    "print(\"Es gibt\", i, \"verschiedene solcher Zahlen\")\n",
    "                        \n",
    "                        "
   ]
  },
  {
   "cell_type": "code",
   "execution_count": null,
   "id": "ca6a62ac",
   "metadata": {},
   "outputs": [],
   "source": [
    "# Übung 9\n",
    "\n",
    "n = int(input(\"Bitte geben Sie eine natürliche Zahl ein: \"))\n",
    "\n",
    "while n != 1:\n",
    "    print(n)\n",
    "    if n % 2 == 0:\n",
    "        n = n // 2\n",
    "    else:\n",
    "        n = n * 3 + 1\n",
    "print(n)\n",
    "\n"
   ]
  }
 ],
 "metadata": {
  "kernelspec": {
   "display_name": "Python 3 (ipykernel)",
   "language": "python",
   "name": "python3"
  },
  "language_info": {
   "codemirror_mode": {
    "name": "ipython",
    "version": 3
   },
   "file_extension": ".py",
   "mimetype": "text/x-python",
   "name": "python",
   "nbconvert_exporter": "python",
   "pygments_lexer": "ipython3",
   "version": "3.9.13"
  }
 },
 "nbformat": 4,
 "nbformat_minor": 5
}
