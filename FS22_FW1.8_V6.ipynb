{
 "cells": [
  {
   "cell_type": "markdown",
   "id": "fe3838f1",
   "metadata": {},
   "source": [
    "<h1 style= \"background-color:gold; height:60px;line-height: 2.5; text-align: center; letter-spacing: 5px;\">Vertiefungsübungen V6</h1>"
   ]
  },
  {
   "cell_type": "markdown",
   "id": "bde4c22d",
   "metadata": {},
   "source": [
    "# Schleifen"
   ]
  },
  {
   "cell_type": "markdown",
   "id": "c459d77e",
   "metadata": {},
   "source": [
    "<img src=\"img_6.jpg\">\n",
    "<center><em>Professur der Didaktik für Informatik und Medienbildung<br><center><em>Fachwissenschaft Medien und Informatik 1.8<br></em>"
   ]
  },
  {
   "cell_type": "markdown",
   "id": "84b2469e",
   "metadata": {},
   "source": [
    "### 1. for-Schleife\n",
    "Eine For-Schleife wird verwendet, um eine bestimmte Anzahl von Malen eine Anweisung auszuführen. Die Syntax der For-Schleife sieht wie folgt aus:"
   ]
  },
  {
   "cell_type": "markdown",
   "id": "366741db",
   "metadata": {},
   "source": [
    "<code>for variable in range(start, stop, step):</code><br>\n",
    "    "
   ]
  },
  {
   "cell_type": "markdown",
   "id": "9ac4ee3a",
   "metadata": {},
   "source": [
    "Die Variable ist eine beliebige Variable, die verwendet wird, um durch die Schleife zu gehen.<br>\n",
    "Der Startwert ist der Startwert des Bereichs, durch den die Schleife gehen soll.<br>\n",
    "Der Stopwert ist der Endwert des Bereichs, durch den die Schleife gehen soll.<br>\n",
    "Der Schrittwert ist der Wert, um den die Variable bei jedem Durchlauf der Schleife erhöht oder verringert wird.<br><br>\n",
    "Beispiel:"
   ]
  },
  {
   "cell_type": "code",
   "execution_count": 5,
   "id": "b3abe625",
   "metadata": {
    "scrolled": true
   },
   "outputs": [
    {
     "name": "stdout",
     "output_type": "stream",
     "text": [
      "0\n",
      "1\n",
      "2\n",
      "3\n",
      "4\n"
     ]
    }
   ],
   "source": [
    "for i in range(0, 5):\n",
    "    print(i)\n"
   ]
  },
  {
   "cell_type": "markdown",
   "id": "4d86869a",
   "metadata": {},
   "source": [
    "Dieser Code wird die Zahl von 0 bis 4 ausgeben, weil die Schleife 5 mal ausgeführt wird (0, 1, 2, 3, 4)."
   ]
  },
  {
   "cell_type": "markdown",
   "id": "5c5a9889",
   "metadata": {},
   "source": [
    "### 2. while-Schleife\n",
    "Eine while-Schleife wird verwendet, um eine Anweisung solange auszuführen, wie eine bestimmte Bedingung erfüllt ist. Die Syntax der While-Schleife sieht wie folgt aus:"
   ]
  },
  {
   "cell_type": "markdown",
   "id": "3b219cdb",
   "metadata": {},
   "source": [
    "while Bedingung:<br><br>\n",
    "Beispiel:\n"
   ]
  },
  {
   "cell_type": "code",
   "execution_count": 7,
   "id": "3a4f0e76",
   "metadata": {
    "scrolled": false
   },
   "outputs": [
    {
     "name": "stdout",
     "output_type": "stream",
     "text": [
      "0\n",
      "1\n",
      "2\n",
      "3\n",
      "4\n"
     ]
    }
   ],
   "source": [
    "x = 0\n",
    "\n",
    "while x < 5:\n",
    "    print(x)\n",
    "    x += 1\n"
   ]
  },
  {
   "cell_type": "markdown",
   "id": "785f9046",
   "metadata": {},
   "source": [
    "Dieser Code wird die Zahl von 0 bis 4 ausgeben, weil die Schleife solange ausgeführt wird, bis die Variable x den Wert 5 hat."
   ]
  },
  {
   "cell_type": "markdown",
   "id": "a1acbfb8",
   "metadata": {},
   "source": [
    "### 3. break und continue\n",
    "Für die Schleifen existieren zwei wichtige Anweisungen: „break” zum vorzeitigen Abbruch\n",
    "der Schleife und „continue”, um einen Durchlauf zu beenden und mit dem nächsten\n",
    "Durchlauf bzw. der Überprüfung der Abbruchbedingung weiterzumachen."
   ]
  },
  {
   "cell_type": "markdown",
   "id": "53e3989d",
   "metadata": {},
   "source": [
    "Das Schlüsselwort break beendet die Ausführung der aktuellen Schleife und springt zur nächsten Anweisung außerhalb der Schleife.\n",
    "<br><br>\n",
    "Beispiel:"
   ]
  },
  {
   "cell_type": "code",
   "execution_count": 10,
   "id": "27949bd6",
   "metadata": {
    "scrolled": false
   },
   "outputs": [
    {
     "name": "stdout",
     "output_type": "stream",
     "text": [
      "0\n",
      "1\n",
      "2\n",
      "3\n",
      "4\n"
     ]
    }
   ],
   "source": [
    "for i in range(10):\n",
    "    if i == 5:\n",
    "        break\n",
    "    print(i)\n"
   ]
  },
  {
   "cell_type": "markdown",
   "id": "40754c7d",
   "metadata": {},
   "source": [
    "Dieser Code wird die Zahlen von 0 bis 4 ausgeben, weil die Schleife beim Wert 5 abbricht und die Ausgabe der Zahl 5 und jeder Zahl danach verhindert."
   ]
  },
  {
   "cell_type": "markdown",
   "id": "2412128d",
   "metadata": {},
   "source": [
    "Das Schlüsselwort continue beendet die Ausführung der aktuellen Iteration der Schleife und springt zur nächsten Iteration.<br><br>\n",
    "Beispiel:"
   ]
  },
  {
   "cell_type": "code",
   "execution_count": 11,
   "id": "a61b30d3",
   "metadata": {
    "scrolled": true
   },
   "outputs": [
    {
     "name": "stdout",
     "output_type": "stream",
     "text": [
      "1\n",
      "3\n",
      "5\n",
      "7\n",
      "9\n",
      "11\n",
      "13\n",
      "15\n",
      "17\n",
      "19\n"
     ]
    }
   ],
   "source": [
    "for i in range(20):\n",
    "    if i % 2 == 0:\n",
    "        continue\n",
    "    print(i)\n"
   ]
  },
  {
   "cell_type": "markdown",
   "id": "f4fd867d",
   "metadata": {},
   "source": [
    "Dieser Code wird die ungeraden Zahlen von 1 bis 9 ausgeben, weil die Schleife bei jeder geraden Zahl mit continue übersprungen wird und die Ausgabe dieser Zahlen verhindert."
   ]
  },
  {
   "cell_type": "markdown",
   "id": "573402a2",
   "metadata": {},
   "source": [
    "### 4. else in Schleifen\n",
    "Bei Schleifen kann ein else-Teil folgen. Die Anweisungen im else-Teil werden ausgeführt, sobald die Bedingung nicht mehr erfüllt ist. Der else-Teil einer Schleife wird erst zusammen mit dem break-Kommando sinnvoll."
   ]
  },
  {
   "cell_type": "markdown",
   "id": "2a2f249d",
   "metadata": {},
   "source": [
    "Hier wird eine for-Schleife mit else verwendet, um zu überprüfen, ob eine bestimmte Zahl eine Primzahl ist."
   ]
  },
  {
   "cell_type": "code",
   "execution_count": null,
   "id": "4d6be6d4",
   "metadata": {},
   "outputs": [],
   "source": [
    "number = 234242\n",
    "\n",
    "for i in range(2, number):\n",
    "    if number % i == 0:\n",
    "        print(number, \"ist keine Primzahl\")\n",
    "        break\n",
    "else:\n",
    "    print(number, \"ist eine Primzahl\")\n"
   ]
  },
  {
   "cell_type": "markdown",
   "id": "4076e05e",
   "metadata": {},
   "source": [
    "Im folgenden Beispiel, einem einfachen Zahlenratespiel, kann man erkennen, dass in Kombination mit einem break der else-Zweig durchaus sinnvoll sein kann. Nur wenn die\n",
    "while-Schleife regulär beendet wird, d.h. der Spieler die Zahl erraten hat, gibt es einen\n",
    "Glückwunsch. Gibt der Spieler auf, d.h. break, dann wird der else-Zweig der while-Schleife\n",
    "nicht ausgeführt."
   ]
  },
  {
   "cell_type": "code",
   "execution_count": 21,
   "id": "22aacd0b",
   "metadata": {
    "scrolled": true
   },
   "outputs": [
    {
     "name": "stdout",
     "output_type": "stream",
     "text": [
      "Dein Versuch: 7\n",
      "Zu gross\n",
      "Dein Versuch: 9\n",
      "Zu gross\n",
      "Dein Versuch: 1\n",
      "Zu klein\n",
      "Dein Versuch: \n",
      "Schade, dass du aufgibst!\n"
     ]
    }
   ],
   "source": [
    "import random\n",
    "n = 20\n",
    "to_be_guessed = random.randint(1, n)\n",
    "guess = 0\n",
    "\n",
    "while guess != to_be_guessed:\n",
    "    guess = input(\"Dein Versuch: \")\n",
    "    if guess.isdecimal():\n",
    "        guess = int(guess)\n",
    "        if guess > to_be_guessed:\n",
    "            print(\"Zu gross\")\n",
    "        elif guess < to_be_guessed:\n",
    "            print(\"Zu klein\")\n",
    "    else:\n",
    "        print(\"Schade, dass du aufgibst!\")\n",
    "        break\n",
    "else:\n",
    "    print(\"Gratuliere, das war's\")"
   ]
  },
  {
   "cell_type": "markdown",
   "id": "db679af4",
   "metadata": {},
   "source": [
    "### 5. Verschachtelte Schleifen (nested loops)\n"
   ]
  },
  {
   "cell_type": "code",
   "execution_count": 1,
   "id": "ddd2e254",
   "metadata": {},
   "outputs": [
    {
     "name": "stdout",
     "output_type": "stream",
     "text": [
      "i = 0 j = 0\n",
      "i = 0 j = 1\n",
      "i = 1 j = 0\n",
      "i = 1 j = 1\n",
      "i = 2 j = 0\n",
      "i = 2 j = 1\n"
     ]
    }
   ],
   "source": [
    "# Verschachtelte Schleifen mit for\n",
    "\n",
    "# Äussere Schleife\n",
    "for i in range(3):\n",
    "    # Innere Schleife\n",
    "    for j in range(2):\n",
    "        print(\"i =\", i, \"j =\", j)    "
   ]
  },
  {
   "cell_type": "code",
   "execution_count": 2,
   "id": "41306eee",
   "metadata": {},
   "outputs": [
    {
     "name": "stdout",
     "output_type": "stream",
     "text": [
      "1\t2\t3\t4\t5\t6\t7\t8\t9\t10\t\n",
      "2\t4\t6\t8\t10\t12\t14\t16\t18\t20\t\n",
      "3\t6\t9\t12\t15\t18\t21\t24\t27\t30\t\n",
      "4\t8\t12\t16\t20\t24\t28\t32\t36\t40\t\n",
      "5\t10\t15\t20\t25\t30\t35\t40\t45\t50\t\n",
      "6\t12\t18\t24\t30\t36\t42\t48\t54\t60\t\n",
      "7\t14\t21\t28\t35\t42\t49\t56\t63\t70\t\n",
      "8\t16\t24\t32\t40\t48\t56\t64\t72\t80\t\n",
      "9\t18\t27\t36\t45\t54\t63\t72\t81\t90\t\n",
      "10\t20\t30\t40\t50\t60\t70\t80\t90\t100\t\n"
     ]
    }
   ],
   "source": [
    "# Beispiel für eine verschachtelte Schleife mit while zur Erstellung einer Multiplikationstabelle\n",
    "\n",
    "i = 1\n",
    "while i <= 10:\n",
    "    j = 1\n",
    "    while j <= 10:\n",
    "        print(i*j, end=\"\\t\") # end=\"\\t\" sorgt dafür, dass die Ergebnisse in Spalten angezeigt werden\n",
    "        j += 1\n",
    "    print() # Leerzeile nach jeder Reihe\n",
    "    i += 1\n"
   ]
  },
  {
   "cell_type": "code",
   "execution_count": 7,
   "id": "33f49d1d",
   "metadata": {},
   "outputs": [
    {
     "name": "stdout",
     "output_type": "stream",
     "text": [
      "*TTbK5v^\n"
     ]
    }
   ],
   "source": [
    "# Beispiel für das Erstellen eines Zufallsgenerators für Passwörter mit verschachtelten Schleifen\n",
    "\n",
    "import random\n",
    "\n",
    "# Länge des Passworts\n",
    "password_length = 8\n",
    "\n",
    "\n",
    "# Liste der möglichen Zeichen für das Passwort\n",
    "characters = \"abcdefghijklmnopqrstuvwxyzABCDEFGHIJKLMNOPQRSTUVWXYZ0123456789!@#$%^&*()\"\n",
    "password =\"\"\n",
    "\n",
    "\n",
    "# Äußere Schleife für die Länge des Passworts\n",
    "for i in range(password_length):\n",
    "    # Innere Schleife für die Auswahl eines zufälligen Zeichens\n",
    "    for j in range(1):\n",
    "        # Fügt das zufällige Zeichen dem Passwort hinzu\n",
    "        password += random.choice(characters)\n",
    "\n",
    "print(password)"
   ]
  },
  {
   "cell_type": "markdown",
   "id": "7a51fca4",
   "metadata": {},
   "source": [
    "## Übungen"
   ]
  },
  {
   "cell_type": "markdown",
   "id": "027d1b76",
   "metadata": {},
   "source": [
    "1. Geben Sie die Zahlen von 1 bis 20, gefolgt von ihrem Quadrat, unter Benutzung einer while-Schleife aus:"
   ]
  },
  {
   "cell_type": "code",
   "execution_count": 8,
   "id": "430e571b",
   "metadata": {},
   "outputs": [],
   "source": [
    "# Quadratzahlen\n"
   ]
  },
  {
   "cell_type": "markdown",
   "id": "5a632ccc",
   "metadata": {},
   "source": [
    "2. Berechnen Sie die Summe aller natürlichen Zahlen von 1 bis 100 mit einer for-Schleife\n"
   ]
  },
  {
   "cell_type": "code",
   "execution_count": null,
   "id": "58a3fb63",
   "metadata": {},
   "outputs": [],
   "source": [
    "# Summe natürlicher Zahlen\n"
   ]
  },
  {
   "cell_type": "markdown",
   "id": "48967445",
   "metadata": {},
   "source": [
    "3. Geben Sie die Teiler einer eingegeben Zahl aus.<br>\n",
    "Mit dem Modulo-Operator % können Sie testen, ob der Teilerrest Null ist.<br>\n",
    "<code>rest = zahl%divisor\n",
    " if rest == 0:</code>"
   ]
  },
  {
   "cell_type": "code",
   "execution_count": null,
   "id": "6e02a643",
   "metadata": {},
   "outputs": [],
   "source": [
    "# Teilermenge\n",
    "\n",
    "zahl=int(input(\"Von welcher Zahl möchtest du die Teiler wissen? \"))\n"
   ]
  },
  {
   "cell_type": "markdown",
   "id": "9094b7db",
   "metadata": {},
   "source": [
    "4. Schreiben Sie ein Programm, das einen Tannenbaum zeichnet.<br>\n",
    "         "
   ]
  },
  {
   "cell_type": "code",
   "execution_count": 5,
   "id": "0aa682a2",
   "metadata": {},
   "outputs": [
    {
     "name": "stdout",
     "output_type": "stream",
     "text": [
      "     *\n",
      "    ***\n",
      "   *****\n",
      "  *******\n",
      " *********\n",
      "************\n"
     ]
    }
   ],
   "source": [
    "print(\"     *\")\n",
    "print(\"    ***\")\n",
    "print(\"   *****\")\n",
    "print(\"  *******\")\n",
    "print(\" *********\")\n",
    "print(\"************\")"
   ]
  },
  {
   "cell_type": "markdown",
   "id": "10b6b1b5",
   "metadata": {},
   "source": [
    "Der Tannenbaum sollte nun mit Schleifen gezeichnet werden."
   ]
  },
  {
   "cell_type": "code",
   "execution_count": 1,
   "id": "368223b2",
   "metadata": {
    "scrolled": false
   },
   "outputs": [
    {
     "name": "stdout",
     "output_type": "stream",
     "text": [
      "Anzahl Zeilen? 33\n",
      "2\n",
      "3\n",
      "23\n",
      "     ****\n"
     ]
    }
   ],
   "source": [
    "# Beispiel für das Zeichnen eines Weihnachtsbaumes mit *\n",
    "\n",
    "# Anzahl der Zeilen soll eingegeben werden\n",
    "rows = int(input(\"Anzahl Zeilen? \"))\n",
    "\n",
    "# Man kann dem Schlüsselwortparameter \"end\" einen beliebigen String zuweisen,\n",
    "# der dann statt dem Default-Wert \"\\n\" verwendet wird. Das erlaubt z.B. mehrere Werte in einer Zeile auszugeben\n",
    "\n",
    "# Normalerweise schliesst jeder Aufruf von print eine Zeile der Ausgabe ab.\n",
    "print(2)\n",
    "print(3)\n",
    "\n",
    "# Durch ein mit »end=« gekennzeichnetes Argument kann dies verhindert werden.\n",
    "print(2, end=\"\")\n",
    "print(3)\n",
    "\n",
    "# Zeichen können auch folgendermassen wiederholt werden:\n",
    "print(5 * \" \" + 4 * \"*\")"
   ]
  },
  {
   "cell_type": "markdown",
   "id": "adb064c5",
   "metadata": {},
   "source": [
    "5. Schreiben Sie ein Programm, das von -20 bis 100 Grad Celsius in 5-er Schritten diese Werte in Fahrenheit umrechnet.<br>\n",
    "F = 9.0/5  * C + 32<br>\n",
    "Schreiben Sie auch die Umkehrung"
   ]
  },
  {
   "cell_type": "code",
   "execution_count": 22,
   "id": "effc95c8",
   "metadata": {
    "scrolled": true
   },
   "outputs": [],
   "source": [
    "# Celsius in Fahrenheit\n"
   ]
  },
  {
   "cell_type": "markdown",
   "id": "38bcd105",
   "metadata": {},
   "source": [
    "6. Schreibe ein Programm, welches nach Eingabe des Kapitals, des Zinsfusses und der Laufzeit die jährliche Kapitalentwicklung ausgibt."
   ]
  },
  {
   "cell_type": "code",
   "execution_count": 23,
   "id": "33e72618",
   "metadata": {},
   "outputs": [],
   "source": [
    "# Zinseszins\n"
   ]
  },
  {
   "cell_type": "markdown",
   "id": "6fbdd03a",
   "metadata": {},
   "source": [
    "7. Programmieren Sie die Fakultät mittels ein Schleife"
   ]
  },
  {
   "cell_type": "code",
   "execution_count": 25,
   "id": "b838f89c",
   "metadata": {},
   "outputs": [],
   "source": [
    "# Fakultät\n"
   ]
  },
  {
   "cell_type": "markdown",
   "id": "20d3b6ed",
   "metadata": {},
   "source": [
    "8. Die chinesische Weissagung I-Gingbedient sich zweier Muster<br>\n",
    "00__00 = Yin<br>\n",
    "000000 = Yang<br>\n",
    "die an 6 Plätzen auftreten können. Daraus ergeben sich 64 Hexagramme, von denen jedem eine bestimmte Bedeutung zukommt. Das folgende Symbol beduetet \"Die Sammlung\".<br><br>\n",
    "00__00<br>\n",
    "000000<br>\n",
    "000000<br>\n",
    "00__00<br>\n",
    "00__00<br>\n",
    "00__00<br>\n",
    "\n",
    "\n",
    "<img src=\"https://upload.wikimedia.org/wikipedia/commons/thumb/b/bb/UCB_Yijing_Hexagram_Symbols.png/1280px-UCB_Yijing_Hexagram_Symbols.png\" alt=\"I-Ging\"/>\n",
    "\n",
    "Das folgende Programm gibt alle möglichen I-Ging Hexagramme aus."
   ]
  },
  {
   "cell_type": "code",
   "execution_count": 38,
   "id": "b9365001",
   "metadata": {},
   "outputs": [
    {
     "name": "stdout",
     "output_type": "stream",
     "text": [
      "1\n",
      "XXXXXX\n",
      "XXXXXX\n",
      "XXXXXX\n",
      "XXXXXX\n",
      "XXXXXX\n",
      "XXXXXX\n",
      "\n",
      "2\n",
      "XXXXXX\n",
      "XXXXXX\n",
      "XXXXXX\n",
      "XXXXXX\n",
      "XXXXXX\n",
      "XX__XX\n",
      "\n",
      "3\n",
      "XXXXXX\n",
      "XXXXXX\n",
      "XXXXXX\n",
      "XXXXXX\n",
      "XX__XX\n",
      "XXXXXX\n",
      "\n",
      "4\n",
      "XXXXXX\n",
      "XXXXXX\n",
      "XXXXXX\n",
      "XXXXXX\n",
      "XX__XX\n",
      "XX__XX\n",
      "\n",
      "5\n",
      "XXXXXX\n",
      "XXXXXX\n",
      "XXXXXX\n",
      "XX__XX\n",
      "XXXXXX\n",
      "XXXXXX\n",
      "\n",
      "6\n",
      "XXXXXX\n",
      "XXXXXX\n",
      "XXXXXX\n",
      "XX__XX\n",
      "XXXXXX\n",
      "XX__XX\n",
      "\n",
      "7\n",
      "XXXXXX\n",
      "XXXXXX\n",
      "XXXXXX\n",
      "XX__XX\n",
      "XX__XX\n",
      "XXXXXX\n",
      "\n",
      "8\n",
      "XXXXXX\n",
      "XXXXXX\n",
      "XXXXXX\n",
      "XX__XX\n",
      "XX__XX\n",
      "XX__XX\n",
      "\n",
      "9\n",
      "XXXXXX\n",
      "XXXXXX\n",
      "XX__XX\n",
      "XXXXXX\n",
      "XXXXXX\n",
      "XXXXXX\n",
      "\n",
      "10\n",
      "XXXXXX\n",
      "XXXXXX\n",
      "XX__XX\n",
      "XXXXXX\n",
      "XXXXXX\n",
      "XX__XX\n",
      "\n",
      "11\n",
      "XXXXXX\n",
      "XXXXXX\n",
      "XX__XX\n",
      "XXXXXX\n",
      "XX__XX\n",
      "XXXXXX\n",
      "\n",
      "12\n",
      "XXXXXX\n",
      "XXXXXX\n",
      "XX__XX\n",
      "XXXXXX\n",
      "XX__XX\n",
      "XX__XX\n",
      "\n",
      "13\n",
      "XXXXXX\n",
      "XXXXXX\n",
      "XX__XX\n",
      "XX__XX\n",
      "XXXXXX\n",
      "XXXXXX\n",
      "\n",
      "14\n",
      "XXXXXX\n",
      "XXXXXX\n",
      "XX__XX\n",
      "XX__XX\n",
      "XXXXXX\n",
      "XX__XX\n",
      "\n",
      "15\n",
      "XXXXXX\n",
      "XXXXXX\n",
      "XX__XX\n",
      "XX__XX\n",
      "XX__XX\n",
      "XXXXXX\n",
      "\n",
      "16\n",
      "XXXXXX\n",
      "XXXXXX\n",
      "XX__XX\n",
      "XX__XX\n",
      "XX__XX\n",
      "XX__XX\n",
      "\n",
      "17\n",
      "XXXXXX\n",
      "XX__XX\n",
      "XXXXXX\n",
      "XXXXXX\n",
      "XXXXXX\n",
      "XXXXXX\n",
      "\n",
      "18\n",
      "XXXXXX\n",
      "XX__XX\n",
      "XXXXXX\n",
      "XXXXXX\n",
      "XXXXXX\n",
      "XX__XX\n",
      "\n",
      "19\n",
      "XXXXXX\n",
      "XX__XX\n",
      "XXXXXX\n",
      "XXXXXX\n",
      "XX__XX\n",
      "XXXXXX\n",
      "\n",
      "20\n",
      "XXXXXX\n",
      "XX__XX\n",
      "XXXXXX\n",
      "XXXXXX\n",
      "XX__XX\n",
      "XX__XX\n",
      "\n",
      "21\n",
      "XXXXXX\n",
      "XX__XX\n",
      "XXXXXX\n",
      "XX__XX\n",
      "XXXXXX\n",
      "XXXXXX\n",
      "\n",
      "22\n",
      "XXXXXX\n",
      "XX__XX\n",
      "XXXXXX\n",
      "XX__XX\n",
      "XXXXXX\n",
      "XX__XX\n",
      "\n",
      "23\n",
      "XXXXXX\n",
      "XX__XX\n",
      "XXXXXX\n",
      "XX__XX\n",
      "XX__XX\n",
      "XXXXXX\n",
      "\n",
      "24\n",
      "XXXXXX\n",
      "XX__XX\n",
      "XXXXXX\n",
      "XX__XX\n",
      "XX__XX\n",
      "XX__XX\n",
      "\n",
      "25\n",
      "XXXXXX\n",
      "XX__XX\n",
      "XX__XX\n",
      "XXXXXX\n",
      "XXXXXX\n",
      "XXXXXX\n",
      "\n",
      "26\n",
      "XXXXXX\n",
      "XX__XX\n",
      "XX__XX\n",
      "XXXXXX\n",
      "XXXXXX\n",
      "XX__XX\n",
      "\n",
      "27\n",
      "XXXXXX\n",
      "XX__XX\n",
      "XX__XX\n",
      "XXXXXX\n",
      "XX__XX\n",
      "XXXXXX\n",
      "\n",
      "28\n",
      "XXXXXX\n",
      "XX__XX\n",
      "XX__XX\n",
      "XXXXXX\n",
      "XX__XX\n",
      "XX__XX\n",
      "\n",
      "29\n",
      "XXXXXX\n",
      "XX__XX\n",
      "XX__XX\n",
      "XX__XX\n",
      "XXXXXX\n",
      "XXXXXX\n",
      "\n",
      "30\n",
      "XXXXXX\n",
      "XX__XX\n",
      "XX__XX\n",
      "XX__XX\n",
      "XXXXXX\n",
      "XX__XX\n",
      "\n",
      "31\n",
      "XXXXXX\n",
      "XX__XX\n",
      "XX__XX\n",
      "XX__XX\n",
      "XX__XX\n",
      "XXXXXX\n",
      "\n",
      "32\n",
      "XXXXXX\n",
      "XX__XX\n",
      "XX__XX\n",
      "XX__XX\n",
      "XX__XX\n",
      "XX__XX\n",
      "\n",
      "33\n",
      "XX__XX\n",
      "XXXXXX\n",
      "XXXXXX\n",
      "XXXXXX\n",
      "XXXXXX\n",
      "XXXXXX\n",
      "\n",
      "34\n",
      "XX__XX\n",
      "XXXXXX\n",
      "XXXXXX\n",
      "XXXXXX\n",
      "XXXXXX\n",
      "XX__XX\n",
      "\n",
      "35\n",
      "XX__XX\n",
      "XXXXXX\n",
      "XXXXXX\n",
      "XXXXXX\n",
      "XX__XX\n",
      "XXXXXX\n",
      "\n",
      "36\n",
      "XX__XX\n",
      "XXXXXX\n",
      "XXXXXX\n",
      "XXXXXX\n",
      "XX__XX\n",
      "XX__XX\n",
      "\n",
      "37\n",
      "XX__XX\n",
      "XXXXXX\n",
      "XXXXXX\n",
      "XX__XX\n",
      "XXXXXX\n",
      "XXXXXX\n",
      "\n",
      "38\n",
      "XX__XX\n",
      "XXXXXX\n",
      "XXXXXX\n",
      "XX__XX\n",
      "XXXXXX\n",
      "XX__XX\n",
      "\n",
      "39\n",
      "XX__XX\n",
      "XXXXXX\n",
      "XXXXXX\n",
      "XX__XX\n",
      "XX__XX\n",
      "XXXXXX\n",
      "\n",
      "40\n",
      "XX__XX\n",
      "XXXXXX\n",
      "XXXXXX\n",
      "XX__XX\n",
      "XX__XX\n",
      "XX__XX\n",
      "\n",
      "41\n",
      "XX__XX\n",
      "XXXXXX\n",
      "XX__XX\n",
      "XXXXXX\n",
      "XXXXXX\n",
      "XXXXXX\n",
      "\n",
      "42\n",
      "XX__XX\n",
      "XXXXXX\n",
      "XX__XX\n",
      "XXXXXX\n",
      "XXXXXX\n",
      "XX__XX\n",
      "\n",
      "43\n",
      "XX__XX\n",
      "XXXXXX\n",
      "XX__XX\n",
      "XXXXXX\n",
      "XX__XX\n",
      "XXXXXX\n",
      "\n",
      "44\n",
      "XX__XX\n",
      "XXXXXX\n",
      "XX__XX\n",
      "XXXXXX\n",
      "XX__XX\n",
      "XX__XX\n",
      "\n",
      "45\n",
      "XX__XX\n",
      "XXXXXX\n",
      "XX__XX\n",
      "XX__XX\n",
      "XXXXXX\n",
      "XXXXXX\n",
      "\n",
      "46\n",
      "XX__XX\n",
      "XXXXXX\n",
      "XX__XX\n",
      "XX__XX\n",
      "XXXXXX\n",
      "XX__XX\n",
      "\n",
      "47\n",
      "XX__XX\n",
      "XXXXXX\n",
      "XX__XX\n",
      "XX__XX\n",
      "XX__XX\n",
      "XXXXXX\n",
      "\n",
      "48\n",
      "XX__XX\n",
      "XXXXXX\n",
      "XX__XX\n",
      "XX__XX\n",
      "XX__XX\n",
      "XX__XX\n",
      "\n",
      "49\n",
      "XX__XX\n",
      "XX__XX\n",
      "XXXXXX\n",
      "XXXXXX\n",
      "XXXXXX\n",
      "XXXXXX\n",
      "\n",
      "50\n",
      "XX__XX\n",
      "XX__XX\n",
      "XXXXXX\n",
      "XXXXXX\n",
      "XXXXXX\n",
      "XX__XX\n",
      "\n",
      "51\n",
      "XX__XX\n",
      "XX__XX\n",
      "XXXXXX\n",
      "XXXXXX\n",
      "XX__XX\n",
      "XXXXXX\n",
      "\n",
      "52\n",
      "XX__XX\n",
      "XX__XX\n",
      "XXXXXX\n",
      "XXXXXX\n",
      "XX__XX\n",
      "XX__XX\n",
      "\n",
      "53\n",
      "XX__XX\n",
      "XX__XX\n",
      "XXXXXX\n",
      "XX__XX\n",
      "XXXXXX\n",
      "XXXXXX\n",
      "\n",
      "54\n",
      "XX__XX\n",
      "XX__XX\n",
      "XXXXXX\n",
      "XX__XX\n",
      "XXXXXX\n",
      "XX__XX\n",
      "\n",
      "55\n",
      "XX__XX\n",
      "XX__XX\n",
      "XXXXXX\n",
      "XX__XX\n",
      "XX__XX\n",
      "XXXXXX\n",
      "\n",
      "56\n",
      "XX__XX\n",
      "XX__XX\n",
      "XXXXXX\n",
      "XX__XX\n",
      "XX__XX\n",
      "XX__XX\n",
      "\n",
      "57\n",
      "XX__XX\n",
      "XX__XX\n",
      "XX__XX\n",
      "XXXXXX\n",
      "XXXXXX\n",
      "XXXXXX\n",
      "\n",
      "58\n",
      "XX__XX\n",
      "XX__XX\n",
      "XX__XX\n",
      "XXXXXX\n",
      "XXXXXX\n",
      "XX__XX\n",
      "\n",
      "59\n",
      "XX__XX\n",
      "XX__XX\n",
      "XX__XX\n",
      "XXXXXX\n",
      "XX__XX\n",
      "XXXXXX\n",
      "\n",
      "60\n",
      "XX__XX\n",
      "XX__XX\n",
      "XX__XX\n",
      "XXXXXX\n",
      "XX__XX\n",
      "XX__XX\n",
      "\n",
      "61\n",
      "XX__XX\n",
      "XX__XX\n",
      "XX__XX\n",
      "XX__XX\n",
      "XXXXXX\n",
      "XXXXXX\n",
      "\n",
      "62\n",
      "XX__XX\n",
      "XX__XX\n",
      "XX__XX\n",
      "XX__XX\n",
      "XXXXXX\n",
      "XX__XX\n",
      "\n",
      "63\n",
      "XX__XX\n",
      "XX__XX\n",
      "XX__XX\n",
      "XX__XX\n",
      "XX__XX\n",
      "XXXXXX\n",
      "\n",
      "64\n",
      "XX__XX\n",
      "XX__XX\n",
      "XX__XX\n",
      "XX__XX\n",
      "XX__XX\n",
      "XX__XX\n",
      "\n"
     ]
    }
   ],
   "source": [
    "# Hexagramm Generator\n",
    "\n",
    "hexagram_a = \"XXXXXX\"\n",
    "hexagram_b = \"XX__XX\"\n",
    "i = 1\n",
    "\n",
    "for a in [hexagram_a, hexagram_b]:\n",
    "    for b in [hexagram_a, hexagram_b]:\n",
    "        for c in [hexagram_a, hexagram_b]:\n",
    "            for d in [hexagram_a, hexagram_b]:\n",
    "                for e in [hexagram_a, hexagram_b]:\n",
    "                    for f in [hexagram_a, hexagram_b]:\n",
    "                        print (i)\n",
    "                        print (a + \"\\n\" + b + \"\\n\" + c + \"\\n\" + d + \"\\n\" + e + \"\\n\" + f+ \"\\n\")\n",
    "                        i += 1\n",
    "                       "
   ]
  },
  {
   "cell_type": "markdown",
   "id": "362ab87d",
   "metadata": {},
   "source": [
    "9. Schreiben Sie mit derselben Idee ein Programm, das alle 6-stelligen Zahlen ausgibt, welche nur aus den Ziffern 1 und 2 bestehen.<br>\n",
    "111111<br>\n",
    "111112<br>\n",
    "111121<br>\n",
    "111122<br>\n",
    "etc."
   ]
  },
  {
   "cell_type": "code",
   "execution_count": 44,
   "id": "c724decf",
   "metadata": {
    "scrolled": true
   },
   "outputs": [
    {
     "name": "stdout",
     "output_type": "stream",
     "text": [
      "111111\n",
      "111112\n",
      "111121\n",
      "111122\n",
      "111211\n",
      "111212\n",
      "111221\n",
      "111222\n",
      "112111\n",
      "112112\n",
      "112121\n",
      "112122\n",
      "112211\n",
      "112212\n",
      "112221\n",
      "112222\n",
      "121111\n",
      "121112\n",
      "121121\n",
      "121122\n",
      "121211\n",
      "121212\n",
      "121221\n",
      "121222\n",
      "122111\n",
      "122112\n",
      "122121\n",
      "122122\n",
      "122211\n",
      "122212\n",
      "122221\n",
      "122222\n",
      "211111\n",
      "211112\n",
      "211121\n",
      "211122\n",
      "211211\n",
      "211212\n",
      "211221\n",
      "211222\n",
      "212111\n",
      "212112\n",
      "212121\n",
      "212122\n",
      "212211\n",
      "212212\n",
      "212221\n",
      "212222\n",
      "221111\n",
      "221112\n",
      "221121\n",
      "221122\n",
      "221211\n",
      "221212\n",
      "221221\n",
      "221222\n",
      "222111\n",
      "222112\n",
      "222121\n",
      "222122\n",
      "222211\n",
      "222212\n",
      "222221\n",
      "222222\n"
     ]
    }
   ],
   "source": [
    "# Variationen mit Wiederholung\n",
    "\n",
    "eins = \"1\"\n",
    "zwei = \"2\"\n",
    "\n",
    "for a in [eins, zwei]:\n",
    "    for b in [eins, zwei]:\n",
    "        for c in [eins, zwei]:\n",
    "            for d in [eins, zwei]:\n",
    "                for e in [eins, zwei]:\n",
    "                    for f in [eins, zwei]:\n",
    "                        print(a + b + c + d + e + f)\n",
    "                       "
   ]
  }
 ],
 "metadata": {
  "kernelspec": {
   "display_name": "Python 3 (ipykernel)",
   "language": "python",
   "name": "python3"
  },
  "language_info": {
   "codemirror_mode": {
    "name": "ipython",
    "version": 3
   },
   "file_extension": ".py",
   "mimetype": "text/x-python",
   "name": "python",
   "nbconvert_exporter": "python",
   "pygments_lexer": "ipython3",
   "version": "3.9.13"
  }
 },
 "nbformat": 4,
 "nbformat_minor": 5
}
