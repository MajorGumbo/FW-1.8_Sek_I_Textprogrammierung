{
 "cells": [
  {
   "cell_type": "markdown",
   "id": "fe3838f1",
   "metadata": {},
   "source": [
    "<h1 style= \"background-color:gold; height:60px;line-height: 2.5; text-align: center; letter-spacing: 5px;\">Vertiefungsübungen V5</h1>"
   ]
  },
  {
   "cell_type": "markdown",
   "id": "bde4c22d",
   "metadata": {},
   "source": [
    "# Verzweigungen"
   ]
  },
  {
   "cell_type": "markdown",
   "id": "c459d77e",
   "metadata": {},
   "source": [
    "<img src=\"img_5.jpg\">\n",
    "<center><em>Professur der Didaktik für Informatik und Medienbildung<br><center><em>Fachwissenschaft Medien und Informatik 1.8<br></em>"
   ]
  },
  {
   "cell_type": "markdown",
   "id": "d9e29b22",
   "metadata": {},
   "source": [
    "Verzweigungen ermöglichen es uns, den Code entsprechend einer bestimmten Bedingung auszuführen.<br>\n",
    "Wir können if-, else und elif- -Anweisungen verwenden, um mehrere Bedingungen zu überprüfen und den entsprechenden Code auszuführen.\n",
    "<br>\n",
    "Wenn die Bedingung wahr ist, wird der entsprechende Codeblock ausgeführt, andernfalls wird der Codeblock übersprungen.<br>\n"
   ]
  },
  {
   "cell_type": "code",
   "execution_count": null,
   "id": "f135ed2c",
   "metadata": {
    "scrolled": true
   },
   "outputs": [],
   "source": [
    "alter = int(input(\"Dein Alter? \"))\n",
    "\n",
    "if alter < 12:\n",
    "    print(\"Sorry, der Film ist erst ab 12!\")\n",
    "    "
   ]
  },
  {
   "cell_type": "markdown",
   "id": "00603deb",
   "metadata": {},
   "source": [
    "Hinweis: Vergessen Sie nicht, dass die Eingabe des Benutzers immer als String interpretiert wird, und verwenden Sie daher die Funktion int(), um sie in eine Zahl umzuwandeln, bevor Sie sie vergleichen."
   ]
  },
  {
   "cell_type": "markdown",
   "id": "870aa8bd",
   "metadata": {},
   "source": [
    "Wir sehen, dass wir keine Ausgabe erhalten, wenn ein potenzieller Besucher alt genug für\n",
    "den Film ist.<br>\n",
    "Dazu können wir unsere if-Anweisung um einen else-Zweig erweitern.<br>\n",
    "Der\n",
    "else-Zweig wird immer dann ausgeführt,wenn das Alter größer oder gleich 12 ist, d.h.wenn\n",
    "die Bedingung nicht erfüllt ist."
   ]
  },
  {
   "cell_type": "code",
   "execution_count": null,
   "id": "c4e41ec3",
   "metadata": {},
   "outputs": [],
   "source": [
    "alter = int(input(\"Dein Alter? \"))\n",
    "\n",
    "if alter < 12:\n",
    "    print(\"Sorry, der Film ist erst ab 12!\")\n",
    "else:\n",
    "    print(\"Okay, viel Spass!\")\n",
    "    "
   ]
  },
  {
   "cell_type": "markdown",
   "id": "bd33b5c8",
   "metadata": {},
   "source": [
    "Wir schreiben nun ein Programm für einen Kinderfilm, der keine Altersbeschränkungen\n",
    "hat. Wir gehen aber davon aus, dass Kinder unter 4 ihn nicht verstehen werden und Jugendliche\n",
    "über 16 ihn zu albern finden werden. Aber ab 12 mag der Genuss schon fraglich\n",
    "sein. In diesem Programm benützen wir „elif”-Anweisungen (else-if)."
   ]
  },
  {
   "cell_type": "code",
   "execution_count": null,
   "id": "ada40f54",
   "metadata": {},
   "outputs": [],
   "source": [
    "alter = int(input(\"Dein Alter? \"))\n",
    "\n",
    "if alter < 4:\n",
    "    print(\"Film ist zu kompliziert!\")\n",
    "elif alter < 12:\n",
    "    print(\"Okay, viel Spass!\")\n",
    "elif alter < 16:\n",
    "    print(\"Bist du sicher, ob das der richtige Film ist?\")\n",
    "else:\n",
    "    print(\"Wollen Sie sich das wirklich antun?\")\n",
    "    "
   ]
  },
  {
   "cell_type": "markdown",
   "id": "7a51fca4",
   "metadata": {},
   "source": [
    "## Übungen"
   ]
  },
  {
   "cell_type": "markdown",
   "id": "027d1b76",
   "metadata": {},
   "source": [
    "1. Schreiben Sie ein Programm, das die Benutzerin nach ihrem Alter fragt und ihr mitteilt, ob sie das PS4-Game <i>The Last of Us</i> kaufen darf.\n",
    "https://www.mediamarkt.de/de/product/_playstation-hits-the-last-of-us-remastered-adventure-playstation-4-2447842.html"
   ]
  },
  {
   "cell_type": "code",
   "execution_count": null,
   "id": "430e571b",
   "metadata": {},
   "outputs": [],
   "source": [
    "# Altersangabe\n"
   ]
  },
  {
   "cell_type": "markdown",
   "id": "5a632ccc",
   "metadata": {},
   "source": [
    "2. Schreiben Sie ein if-else-Statement, das prüft, ob eine gegebene Zahl gerade oder ungerade ist und das Ergebnis ausgibt.<br>\n",
    "Mit dem Modulo-Operator % kann getestet werden, ob die Division durch 2 den Rest Null ergibt, die Zahl also gerade ist:<br>\n",
    "x % 2 == 0"
   ]
  },
  {
   "cell_type": "code",
   "execution_count": null,
   "id": "58a3fb63",
   "metadata": {},
   "outputs": [],
   "source": [
    "# Verwende if und else, um zu bestimmen, ob eine Zahl gerade oder ungerade ist\n"
   ]
  },
  {
   "cell_type": "markdown",
   "id": "f601d48f",
   "metadata": {},
   "source": [
    "3. Schreiben Sie ein Programm, das die Bewertung des Fitnesstests der Armee anhand der erreichten Punkte bestimmt.\n",
    "https://www.sg.ch/sicherheit/militaer-zivilschutz/militaer_kreiskommando/orientierungstag/digitaler-orientierungstag/_jcr_content/Par/sgch_accordion_list/AccordionListPar/sgch_accordion_1583908747/AccordionPar/sgch_downloadlist/DownloadListPar/sgch_download_1745604428.ocFile/FTA-Wertetabelle.pdf"
   ]
  },
  {
   "cell_type": "code",
   "execution_count": null,
   "id": "924f800d",
   "metadata": {},
   "outputs": [],
   "source": [
    "# Punktzahl und Bewertung\n"
   ]
  },
  {
   "cell_type": "markdown",
   "id": "43923234",
   "metadata": {},
   "source": [
    "4. Schreiben Sie ein Programm, das überprüft, welche von zwei eingegebenen Zahlen die grössere ist."
   ]
  },
  {
   "cell_type": "code",
   "execution_count": null,
   "id": "00dd76f4",
   "metadata": {
    "scrolled": false
   },
   "outputs": [],
   "source": [
    "zahl1 = int(input(\"Zahl 1 = \"))\n",
    "zahl2 = int(input(\"Zahl 2 = \"))\n"
   ]
  },
  {
   "cell_type": "markdown",
   "id": "69162a28",
   "metadata": {},
   "source": [
    "5. Schreiben Sie ein Programm, das überprüft, welche von DREI eingegebenen Zahlen die grösste ist."
   ]
  },
  {
   "cell_type": "code",
   "execution_count": null,
   "id": "f8f6d4ac",
   "metadata": {},
   "outputs": [],
   "source": [
    "# Die grösste von 3 Zahlen\n"
   ]
  },
  {
   "cell_type": "markdown",
   "id": "b4f3da85",
   "metadata": {},
   "source": [
    "6. Hundeliebhaber*innen stellen sich häufig die Frage, wie alt ihr Hund wohl wäre, wenn er kein Hund, sondern ein Mensch wäre.\n",
    "Landläufig rechnet man Hundejahre in Menschenjahre um, indem man das Alter des Hundes mit 7 multipliziert.\n",
    "Je nach Hundegrösse und Rasse sieht die Umrechnung jedoch etwas komplizierter aus, z.B.:\n",
    "<pre>\n",
    "Ein einjähriger Hund entspricht in etwa einem 14-jährigen Menschen.\n",
    "2 Jahre eines Hundes entsprechen 22 Jahre eines Menschen.\n",
    "Ab dann entspricht ein Hundejahr jeweils 5 Menschenjahren.\n",
    "</pre>\n",
    "\n",
    "Schreiben Sie ein Programm, welches das Alter eines Hundes erfragt und dann nach obiger\n",
    "Methode berechnet, welchem Alter in Menschenjahren dies entspricht."
   ]
  },
  {
   "cell_type": "code",
   "execution_count": null,
   "id": "50bfe8e4",
   "metadata": {},
   "outputs": [],
   "source": [
    "# Hundejahre\n"
   ]
  },
  {
   "cell_type": "markdown",
   "id": "37352c12",
   "metadata": {},
   "source": [
    "7. Schreiben Sie ein Programm, das von einer gegebenen Jahrzahl ermittelt, ob es sich um ein Schaltjahr handelt.<br>\n",
    "Dabei sind alle durch 4 teilbaren Jahre sog. Schaltjahre mit einem im Februar angefügten Schalttag.<br>\n",
    "Seit der Einführung des Gregorianischen Kalenders im Jahr 1582 gilt zusätzlich folgende Regel:<br>\n",
    "In allen durch 100 teilbaren Jahren wird kein Schalttag eingefügt, es sei denn, das Jahr ist durch 400 teilbar."
   ]
  },
  {
   "cell_type": "code",
   "execution_count": null,
   "id": "d2cce57b",
   "metadata": {},
   "outputs": [],
   "source": [
    "# Schaltjahr\n"
   ]
  },
  {
   "cell_type": "markdown",
   "id": "a8aefe90",
   "metadata": {},
   "source": [
    "8. Schreiben Sie ein Programm, welches den Ticketpreis einer Tageskarte für die Bergbahnen in Visperterminen nach Eingabe des Alters oder des Geburtsjahres ausgibt.<br>\n",
    "https://www.heidadorf.ch/de/planen-und-buchen/bergbahn/preise-tarife"
   ]
  },
  {
   "cell_type": "code",
   "execution_count": null,
   "id": "77d823e5",
   "metadata": {},
   "outputs": [],
   "source": [
    "# Ticketpreis einer Tageskarte für die Bergbahnen in Visperterminen\n"
   ]
  },
  {
   "cell_type": "markdown",
   "id": "0b72ae29",
   "metadata": {},
   "source": [
    "## Einige Musterlösungen"
   ]
  },
  {
   "cell_type": "code",
   "execution_count": null,
   "id": "bfe8d129",
   "metadata": {},
   "outputs": [],
   "source": [
    "# Übung 2\n",
    "\n",
    "number = 4\n",
    "\n",
    "if number % 2 == 0:\n",
    "    print(number, \"is even\")\n",
    "else:\n",
    "    print(number, \"is odd\")\n"
   ]
  },
  {
   "cell_type": "code",
   "execution_count": null,
   "id": "0093af8d",
   "metadata": {},
   "outputs": [],
   "source": [
    "# Übung 4\n",
    "\n",
    "x = 5\n",
    "y = 10\n",
    "if x > y:\n",
    "    print(\"x is greater than y\")\n",
    "elif x < y:\n",
    "    print(\"x is less than y\")\n",
    "else:\n",
    "    print(\"x is equal to y\")\n"
   ]
  },
  {
   "cell_type": "code",
   "execution_count": null,
   "id": "d1333a4c",
   "metadata": {},
   "outputs": [],
   "source": [
    "# Übung 5\n",
    "\n",
    "x = 15\n",
    "y = 20\n",
    "z = 25\n",
    "\n",
    "if x > y and x > z:\n",
    "    print(\"x is the largest number\")\n",
    "elif y > x and y > z:\n",
    "    print(\"y is the largest number\")\n",
    "else:\n",
    "    print(\"z is the largest number\")\n"
   ]
  },
  {
   "cell_type": "code",
   "execution_count": null,
   "id": "21af2f5e",
   "metadata": {},
   "outputs": [],
   "source": [
    "# Übung 6\n",
    "\n",
    "age = int(input(\"Alter des Hundes: \"))\n",
    "print()\n",
    "if age < 0:\n",
    "    print(\"Das stimmt wohl kaum!\")\n",
    "elif age == 1:\n",
    "    print(\"entspricht ca. 14 Jahren\")\n",
    "elif age == 2:\n",
    "    print(\"entspricht ca. 22 Jahren\")\n",
    "elif age > 2:\n",
    "    human = 22 + (age -2)*5\n",
    "    print(\"Menschenjahre\", human)\n",
    "    "
   ]
  },
  {
   "cell_type": "code",
   "execution_count": null,
   "id": "f095fdf1",
   "metadata": {},
   "outputs": [],
   "source": [
    "# Übung 7\n",
    "\n",
    "year = 2030\n",
    "\n",
    "if year % 400 == 0:\n",
    "    print(year, \"is a leap year\")\n",
    "elif year % 100 == 0:\n",
    "    print(year, \"is not a leap year\")\n",
    "elif year % 4 == 0:\n",
    "    print(year, \"is a leap year\")\n",
    "else:\n",
    "    print(year, \"is not a leap year\")\n"
   ]
  }
 ],
 "metadata": {
  "kernelspec": {
   "display_name": "Python 3 (ipykernel)",
   "language": "python",
   "name": "python3"
  },
  "language_info": {
   "codemirror_mode": {
    "name": "ipython",
    "version": 3
   },
   "file_extension": ".py",
   "mimetype": "text/x-python",
   "name": "python",
   "nbconvert_exporter": "python",
   "pygments_lexer": "ipython3",
   "version": "3.9.13"
  }
 },
 "nbformat": 4,
 "nbformat_minor": 5
}
