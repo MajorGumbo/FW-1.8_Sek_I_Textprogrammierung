{
 "cells": [
  {
   "cell_type": "markdown",
   "id": "fe3838f1",
   "metadata": {},
   "source": [
    "<h1 style= \"background-color:gold; height:60px;line-height: 2.5; text-align: center; letter-spacing: 5px;\">Vertiefungsübungen V7</h1>"
   ]
  },
  {
   "cell_type": "markdown",
   "id": "bde4c22d",
   "metadata": {},
   "source": [
    "# Dictionaries"
   ]
  },
  {
   "cell_type": "markdown",
   "id": "c459d77e",
   "metadata": {},
   "source": [
    "<img src=\"img_7.jpg\">\n",
    "<center><em>Professur der Didaktik für Informatik und Medienbildung<br><center><em>Fachwissenschaft Medien und Informatik 1.8<br></em>"
   ]
  },
  {
   "cell_type": "markdown",
   "id": "94c47c0b",
   "metadata": {},
   "source": [
    "Ein Dictionary in Python ist eine Sammlung von Schlüssel-Wert-Paaren, die verwendet werden, um Daten zu speichern und abzurufen. Dictionaries sind ein sehr nützliches Werkzeug in Python, um Daten zu organisieren, zu verwalten und abzurufen. Sie können Schlüssel-Wert-Paare hinzufügen, ändern oder entfernen und verwenden Methoden wie keys(), values() und items() um auf die Daten im Dictionary zuzugreifen. \n",
    "\n",
    "Ein Dictionary wird erstellt, indem man geschweifte Klammern {} verwendet und Schlüssel-Wert-Paare mit einem Doppelpunkt : getrennt werden."
   ]
  },
  {
   "cell_type": "code",
   "execution_count": null,
   "id": "bc9f376e",
   "metadata": {},
   "outputs": [],
   "source": [
    "my_dict = {'Name': 'John', 'Alter': 30, 'Stadt': 'New York'}\n"
   ]
  },
  {
   "cell_type": "markdown",
   "id": "d52c27d2",
   "metadata": {},
   "source": [
    "Um auf einen Wert im Dictionary zuzugreifen, verwenden Sie den Schlüssel in eckigen Klammern []:"
   ]
  },
  {
   "cell_type": "code",
   "execution_count": null,
   "id": "531b7282",
   "metadata": {},
   "outputs": [],
   "source": [
    "print(my_dict['Name']) # Ausgabe: John\n"
   ]
  },
  {
   "cell_type": "markdown",
   "id": "b6c6e00b",
   "metadata": {},
   "source": [
    "Übung 1: Erstellen Sie ein Dictionary mit den Namen und Alter Ihrer Freunde. Greifen Sie auf das Alter eines Freundes zu, indem Sie den Namen als Schlüssel verwenden."
   ]
  },
  {
   "cell_type": "code",
   "execution_count": null,
   "id": "76ba36f6",
   "metadata": {},
   "outputs": [],
   "source": []
  },
  {
   "cell_type": "markdown",
   "id": "dd8071e2",
   "metadata": {},
   "source": [
    "Um einen neuen Schlüssel-Wert-Eintrag hinzuzufügen oder einen vorhandenen zu ändern, verwenden Sie die Syntax von eckigen Klammern []:"
   ]
  },
  {
   "cell_type": "code",
   "execution_count": null,
   "id": "54b7c816",
   "metadata": {},
   "outputs": [],
   "source": [
    "my_dict['Job'] = 'Programmierer'\n",
    "print(my_dict) # Ausgabe: {'Name': 'John', 'Alter': 30, 'Stadt': 'New York', 'Job': 'Programmierer'}\n",
    "\n",
    "my_dict['Alter'] = 35\n",
    "print(my_dict) # Ausgabe: {'Name': 'John', 'Alter': 35, 'Stadt': 'New York', 'Job': 'Programmierer'}\n"
   ]
  },
  {
   "cell_type": "markdown",
   "id": "f3901929",
   "metadata": {},
   "source": [
    "Übung 2: Fügen Sie einen Eintrag 'Hobby' mit dem Wert 'Lesen' zu Ihrem Freunde-Dictionary hinzu. Ändern Sie dann das Alter eines Freundes."
   ]
  },
  {
   "cell_type": "code",
   "execution_count": null,
   "id": "3dc1d7aa",
   "metadata": {},
   "outputs": [],
   "source": []
  },
  {
   "cell_type": "markdown",
   "id": "32ff897a",
   "metadata": {},
   "source": [
    "Übung 3: Erstellen Sie ein Dictionary mit verschiedenen Früchten und deren Preise. Verwenden Sie die Funktionen keys() und values() um die Schlüssel und Werte des Dictionaries auszugeben."
   ]
  },
  {
   "cell_type": "code",
   "execution_count": null,
   "id": "877daed9",
   "metadata": {},
   "outputs": [],
   "source": []
  },
  {
   "cell_type": "markdown",
   "id": "4e3abbdf",
   "metadata": {},
   "source": [
    "Übung 4: Erstellen Sie ein Dictionary mit verschiedenen Ländern und deren Hauptstädten. Verwenden Sie die Funktion items() um alle Schlüssel-Wert-Paare des Dictionaries auszugeben."
   ]
  },
  {
   "cell_type": "code",
   "execution_count": null,
   "id": "e1ca55e2",
   "metadata": {},
   "outputs": [],
   "source": []
  },
  {
   "cell_type": "markdown",
   "id": "1e1d1aa2",
   "metadata": {},
   "source": [
    "Übung 5: Erstellen Sie ein Dictionary mit verschiedenen Filmen und deren Bewertungen. Verwenden Sie die Funktion get() um die Bewertung eines Films abzufragen. Verwenden Sie die Funktion setdefault() um die Bewertung eines Films zu setzen, falls er noch nicht im Dictionary vorhanden ist."
   ]
  },
  {
   "cell_type": "code",
   "execution_count": null,
   "id": "3568aeca",
   "metadata": {},
   "outputs": [],
   "source": []
  },
  {
   "cell_type": "markdown",
   "id": "5b56c6d3",
   "metadata": {},
   "source": [
    "Übung 6.1: Erstellen Sie eine Liste von Schülerinnen und Schülern und ihren Noten."
   ]
  },
  {
   "cell_type": "code",
   "execution_count": null,
   "id": "1cddd4db",
   "metadata": {},
   "outputs": [],
   "source": []
  },
  {
   "cell_type": "markdown",
   "id": "f5dbc350",
   "metadata": {},
   "source": [
    "Übung 6.2: Berechnen Sie den Durchschnitt aller Noten."
   ]
  },
  {
   "cell_type": "code",
   "execution_count": null,
   "id": "c3179680",
   "metadata": {},
   "outputs": [],
   "source": []
  },
  {
   "cell_type": "markdown",
   "id": "efd2d7dd",
   "metadata": {},
   "source": [
    "Übung 6.3: Finden Sie die Schülerin oder den Schüler mit der besten Note."
   ]
  },
  {
   "cell_type": "code",
   "execution_count": null,
   "id": "e2a40477",
   "metadata": {},
   "outputs": [],
   "source": []
  },
  {
   "cell_type": "markdown",
   "id": "8b85da84",
   "metadata": {},
   "source": [
    "## Musterlösungen"
   ]
  },
  {
   "cell_type": "code",
   "execution_count": null,
   "id": "c10628cd",
   "metadata": {},
   "outputs": [],
   "source": [
    "# Übung 1:\n",
    "\n",
    "freunde = {'Mike': 25, 'Emily': 28, 'Jessica': 30}\n",
    "print(freunde['Mike']) # Ausgabe: 25\n"
   ]
  },
  {
   "cell_type": "code",
   "execution_count": null,
   "id": "f01517ab",
   "metadata": {},
   "outputs": [],
   "source": [
    "# Übung 2:\n",
    "\n",
    "freunde['Hobby'] = 'Lesen'\n",
    "print(freunde) # Ausgabe: {'Mike': 25, 'Emily': 28, 'Jessica': 30, 'Hobby': 'Lesen'}\n",
    "\n",
    "freunde['Mike'] = 26\n",
    "print(freunde) # Ausgabe\n"
   ]
  },
  {
   "cell_type": "code",
   "execution_count": null,
   "id": "fab0f138",
   "metadata": {},
   "outputs": [],
   "source": [
    "# Übung 3:\n",
    "\n",
    "fruechte = {'Apfel': 0.99, 'Banane': 0.49, 'Birne': 1.29}\n",
    "print(fruechte.keys()) # Ausgabe: ['Apfel', 'Banane', 'Birne']\n",
    "print(fruechte.values()) # Ausgabe: [0.99, 0.49, 1.29]\n"
   ]
  },
  {
   "cell_type": "code",
   "execution_count": null,
   "id": "ba7226b1",
   "metadata": {},
   "outputs": [],
   "source": [
    "# Übung 4:\n",
    "\n",
    "laender = {'USA': 'Washington D.C.', 'Deutschland': 'Berlin', 'Frankreich': 'Paris'}\n",
    "print(laender.items()) # Ausgabe: [('USA', 'Washington D.C.'), ('Deutschland', 'Berlin'), ('Frankreich', 'Paris')]\n"
   ]
  },
  {
   "cell_type": "code",
   "execution_count": null,
   "id": "7bd0515b",
   "metadata": {},
   "outputs": [],
   "source": [
    "# Übung 5:\n",
    "\n",
    "filme = {'Inception': 8.8, 'The Shawshank Redemption': 9.3, 'Pulp Fiction': 8.9}\n",
    "print(filme.get('Inception')) # Ausgabe: 8.8\n",
    "print(filme.setdefault('The Dark Knight', 9.0)) # Ausgabe: 9.0\n",
    "print(filme) # Ausgabe: {'Inception': 8.8, 'The Shawshank Redemption': 9.3, 'Pulp Fiction': 8.9, 'The Dark Knight': 9.0}\n"
   ]
  },
  {
   "cell_type": "code",
   "execution_count": null,
   "id": "156ad9ad",
   "metadata": {},
   "outputs": [],
   "source": [
    "# Übung 6.1\n",
    "\n",
    "sus = [{\"name\": \"John\", \"note\": 5.0}, {\"name\": \"Jane\", \"note\": 6.0}, {\"name\": \"Jim\", \"note\": 4.5}]\n"
   ]
  },
  {
   "cell_type": "code",
   "execution_count": null,
   "id": "54848a12",
   "metadata": {},
   "outputs": [],
   "source": [
    "# Übung 6.2 und 6.3\n",
    "\n",
    "total = 0.0\n",
    "for student in sus:\n",
    "    total += student[\"note\"]\n",
    "average = total / len(sus)\n",
    "print(\"Durchschnittsnote:\", average)\n",
    "\n",
    "best_student = None\n",
    "best_grade = 0.0\n",
    "for student in sus:\n",
    "    if student[\"note\"] > best_grade:\n",
    "        best_grade = student[\"note\"]\n",
    "        best_student = student[\"name\"]\n",
    "print(\"Beste*r Schüler*in:\", best_student)\n"
   ]
  },
  {
   "cell_type": "code",
   "execution_count": null,
   "id": "23c9e647",
   "metadata": {},
   "outputs": [],
   "source": []
  }
 ],
 "metadata": {
  "kernelspec": {
   "display_name": "Python 3 (ipykernel)",
   "language": "python",
   "name": "python3"
  },
  "language_info": {
   "codemirror_mode": {
    "name": "ipython",
    "version": 3
   },
   "file_extension": ".py",
   "mimetype": "text/x-python",
   "name": "python",
   "nbconvert_exporter": "python",
   "pygments_lexer": "ipython3",
   "version": "3.9.13"
  }
 },
 "nbformat": 4,
 "nbformat_minor": 5
}
